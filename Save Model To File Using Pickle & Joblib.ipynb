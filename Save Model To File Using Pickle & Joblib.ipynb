{
 "cells": [
  {
   "cell_type": "code",
   "execution_count": 1,
   "id": "2b4bd5f8",
   "metadata": {},
   "outputs": [],
   "source": [
    "import numpy as np\n",
    "import pandas as pd\n",
    "import matplotlib.pyplot as plt\n",
    "%matplotlib inline\n",
    "from sklearn import linear_model"
   ]
  },
  {
   "cell_type": "code",
   "execution_count": 2,
   "id": "09558797",
   "metadata": {},
   "outputs": [
    {
     "name": "stdout",
     "output_type": "stream",
     "text": [
      "   area   price\n",
      "0  2600  550000\n",
      "1  3000  565000\n",
      "2  3200  610000\n",
      "3  3600  680000\n",
      "4  4000  725000\n"
     ]
    }
   ],
   "source": [
    "df=pd.read_csv(\"homeprices.csv\")\n",
    "print(df)"
   ]
  },
  {
   "cell_type": "code",
   "execution_count": 3,
   "id": "0e717026",
   "metadata": {},
   "outputs": [
    {
     "data": {
      "text/plain": [
       "LinearRegression()"
      ]
     },
     "execution_count": 3,
     "metadata": {},
     "output_type": "execute_result"
    }
   ],
   "source": [
    "reg=linear_model.LinearRegression()\n",
    "reg.fit(df[['area']],df.price) "
   ]
  },
  {
   "cell_type": "code",
   "execution_count": 4,
   "id": "3f125c88",
   "metadata": {},
   "outputs": [
    {
     "data": {
      "text/plain": [
       "array([628715.75342466])"
      ]
     },
     "execution_count": 4,
     "metadata": {},
     "output_type": "execute_result"
    }
   ],
   "source": [
    "reg.predict([[3300]])"
   ]
  },
  {
   "cell_type": "markdown",
   "id": "6d1fae35",
   "metadata": {},
   "source": [
    "### Saving this model So that i can use anytime"
   ]
  },
  {
   "cell_type": "code",
   "execution_count": 5,
   "id": "fca7dd3d",
   "metadata": {},
   "outputs": [],
   "source": [
    "import pickle"
   ]
  },
  {
   "cell_type": "code",
   "execution_count": 7,
   "id": "f2465402",
   "metadata": {},
   "outputs": [],
   "source": [
    "with open('TrainedsimlelinearRegressionModel','wb') as a:\n",
    "    pickle.dump(reg,a)  # reg=jyta save korte chai\n",
    "    "
   ]
  },
  {
   "cell_type": "markdown",
   "id": "58caa63c",
   "metadata": {},
   "source": [
    "#### TrainedsimlelinearRegressionModel file created into directory"
   ]
  },
  {
   "cell_type": "markdown",
   "id": "2b063af6",
   "metadata": {},
   "source": [
    "#### Lets opennit now"
   ]
  },
  {
   "cell_type": "code",
   "execution_count": 8,
   "id": "89cf9087",
   "metadata": {},
   "outputs": [],
   "source": [
    "with open('TrainedsimlelinearRegressionModel','rb') as a:\n",
    "    lr=pickle.load(a)   \n",
    "    \n",
    "#lr object/variable r modhye file ta raklm lr object use kore ai bar kaj(prediction) ta korte parbo "
   ]
  },
  {
   "cell_type": "code",
   "execution_count": 9,
   "id": "44e3a139",
   "metadata": {},
   "outputs": [
    {
     "data": {
      "text/plain": [
       "array([628715.75342466])"
      ]
     },
     "execution_count": 9,
     "metadata": {},
     "output_type": "execute_result"
    }
   ],
   "source": [
    "lr.predict([[3300]])"
   ]
  },
  {
   "cell_type": "markdown",
   "id": "d8d0e55d",
   "metadata": {},
   "source": [
    "#### So now i can send this file to someone and he can use (to predict)"
   ]
  },
  {
   "cell_type": "markdown",
   "id": "43d5e503",
   "metadata": {},
   "source": [
    "#### Another way"
   ]
  },
  {
   "cell_type": "code",
   "execution_count": 14,
   "id": "836204fd",
   "metadata": {},
   "outputs": [],
   "source": [
    "import pickle\n",
    "filename = 'Trained_model_SimlelinearRegression.sav'\n",
    "pickle.dump(reg, open(filename, 'wb'))"
   ]
  },
  {
   "cell_type": "code",
   "execution_count": 15,
   "id": "b14b9eac",
   "metadata": {},
   "outputs": [],
   "source": [
    "lr1 = pickle.load(open('Trained_model_SimlelinearRegression.sav','rb'))"
   ]
  },
  {
   "cell_type": "code",
   "execution_count": 16,
   "id": "c68d9957",
   "metadata": {},
   "outputs": [
    {
     "data": {
      "text/plain": [
       "array([628715.75342466])"
      ]
     },
     "execution_count": 16,
     "metadata": {},
     "output_type": "execute_result"
    }
   ],
   "source": [
    "lr1.predict([[3300]])"
   ]
  },
  {
   "cell_type": "markdown",
   "id": "4dcdf60f",
   "metadata": {},
   "source": [
    "#### =========  joblib========"
   ]
  },
  {
   "cell_type": "markdown",
   "id": "fb201a01",
   "metadata": {},
   "source": [
    "### if we have more no of numpy array then joblib more efficient way to do"
   ]
  },
  {
   "cell_type": "code",
   "execution_count": 17,
   "id": "7ffcfd8c",
   "metadata": {},
   "outputs": [
    {
     "ename": "ImportError",
     "evalue": "cannot import name 'joblib' from 'sklearn.externals' (C:\\Users\\HP\\anaconda3\\lib\\site-packages\\sklearn\\externals\\__init__.py)",
     "output_type": "error",
     "traceback": [
      "\u001b[1;31m---------------------------------------------------------------------------\u001b[0m",
      "\u001b[1;31mImportError\u001b[0m                               Traceback (most recent call last)",
      "\u001b[1;32m<ipython-input-17-985ca8ff1659>\u001b[0m in \u001b[0;36m<module>\u001b[1;34m\u001b[0m\n\u001b[1;32m----> 1\u001b[1;33m \u001b[1;32mfrom\u001b[0m \u001b[0msklearn\u001b[0m\u001b[1;33m.\u001b[0m\u001b[0mexternals\u001b[0m \u001b[1;32mimport\u001b[0m \u001b[0mjoblib\u001b[0m\u001b[1;33m\u001b[0m\u001b[1;33m\u001b[0m\u001b[0m\n\u001b[0m",
      "\u001b[1;31mImportError\u001b[0m: cannot import name 'joblib' from 'sklearn.externals' (C:\\Users\\HP\\anaconda3\\lib\\site-packages\\sklearn\\externals\\__init__.py)"
     ]
    }
   ],
   "source": [
    "from sklearn.externals import joblib"
   ]
  },
  {
   "cell_type": "code",
   "execution_count": null,
   "id": "0e9c4be9",
   "metadata": {},
   "outputs": [],
   "source": []
  }
 ],
 "metadata": {
  "kernelspec": {
   "display_name": "Python 3",
   "language": "python",
   "name": "python3"
  },
  "language_info": {
   "codemirror_mode": {
    "name": "ipython",
    "version": 3
   },
   "file_extension": ".py",
   "mimetype": "text/x-python",
   "name": "python",
   "nbconvert_exporter": "python",
   "pygments_lexer": "ipython3",
   "version": "3.8.8"
  }
 },
 "nbformat": 4,
 "nbformat_minor": 5
}
